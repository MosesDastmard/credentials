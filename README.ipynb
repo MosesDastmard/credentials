{
 "cells": [
  {
   "cell_type": "code",
   "execution_count": 1,
   "metadata": {},
   "outputs": [],
   "source": [
    "from mcred import CredManager"
   ]
  },
  {
   "cell_type": "code",
   "execution_count": 2,
   "metadata": {},
   "outputs": [],
   "source": [
    "credmanager = CredManager(host=\"host eg. 10.12.31.12\", port=22, username=\"someusername\", password=\"somepassword\", remote_credentials_file_path=\"/path/to/credentials.json\")\n",
    "credmanager.pull()\n",
    "Credentials = credmanager.get()"
   ]
  }
 ],
 "metadata": {
  "kernelspec": {
   "display_name": "py11",
   "language": "python",
   "name": "python3"
  },
  "language_info": {
   "codemirror_mode": {
    "name": "ipython",
    "version": 3
   },
   "file_extension": ".py",
   "mimetype": "text/x-python",
   "name": "python",
   "nbconvert_exporter": "python",
   "pygments_lexer": "ipython3",
   "version": "3.11.0"
  },
  "orig_nbformat": 4,
  "vscode": {
   "interpreter": {
    "hash": "8da04add715e313da19929b53a39423c933b562ccc5d3af9afe29ad53496ac3d"
   }
  }
 },
 "nbformat": 4,
 "nbformat_minor": 2
}
